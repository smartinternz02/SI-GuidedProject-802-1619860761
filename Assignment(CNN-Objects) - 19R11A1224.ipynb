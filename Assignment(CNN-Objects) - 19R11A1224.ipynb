{
 "cells": [
  {
   "cell_type": "code",
   "execution_count": 1,
   "metadata": {},
   "outputs": [],
   "source": [
    "from tensorflow.keras.models import Sequential\n",
    "from tensorflow.keras.layers import Dense\n",
    "from tensorflow.keras.layers import Convolution2D\n",
    "from tensorflow.keras.layers import MaxPooling2D\n",
    "from tensorflow.keras.layers import Flatten"
   ]
  },
  {
   "cell_type": "code",
   "execution_count": 2,
   "metadata": {},
   "outputs": [],
   "source": [
    "from keras.preprocessing.image import ImageDataGenerator\n",
    "td = ImageDataGenerator(rescale = 1./255,shear_range = 0.2,zoom_range = 0.2,horizontal_flip = True)\n",
    "td = ImageDataGenerator(rescale = 1./255)"
   ]
  },
  {
   "cell_type": "code",
   "execution_count": 3,
   "metadata": {},
   "outputs": [
    {
     "name": "stdout",
     "output_type": "stream",
     "text": [
      "Found 42 images belonging to 3 classes.\n",
      "Found 18 images belonging to 3 classes.\n"
     ]
    }
   ],
   "source": [
    "xtrain = td.flow_from_directory(r\"C:\\ExternshipProgram\\DataSet\\train\",target_size = (64,64),batch_size = 9,class_mode = \"categorical\")\n",
    "xtest = td.flow_from_directory(r\"C:\\ExternshipProgram\\DataSet\\test\",target_size = (64,64),batch_size = 9,class_mode = \"categorical\")"
   ]
  },
  {
   "cell_type": "code",
   "execution_count": 4,
   "metadata": {},
   "outputs": [],
   "source": [
    "m = Sequential()"
   ]
  },
  {
   "cell_type": "code",
   "execution_count": 5,
   "metadata": {},
   "outputs": [],
   "source": [
    "m.add(Convolution2D(32,(3,3),input_shape = (64,64,3),activation = \"relu\"))"
   ]
  },
  {
   "cell_type": "code",
   "execution_count": 6,
   "metadata": {},
   "outputs": [],
   "source": [
    "m.add(MaxPooling2D(2,2))"
   ]
  },
  {
   "cell_type": "code",
   "execution_count": 7,
   "metadata": {},
   "outputs": [],
   "source": [
    "m.add(Flatten())"
   ]
  },
  {
   "cell_type": "code",
   "execution_count": 8,
   "metadata": {},
   "outputs": [],
   "source": [
    "m.add(Dense(units = 28,activation = \"relu\",kernel_initializer = \"random_uniform\"))"
   ]
  },
  {
   "cell_type": "code",
   "execution_count": 9,
   "metadata": {},
   "outputs": [],
   "source": [
    "m.add(Dense(units = 3,activation = \"softmax\",kernel_initializer = \"random_uniform\"))"
   ]
  },
  {
   "cell_type": "code",
   "execution_count": 10,
   "metadata": {},
   "outputs": [],
   "source": [
    "m.compile(\"sgd\",loss = \"categorical_crossentropy\",metrics = [\"accuracy\"])"
   ]
  },
  {
   "cell_type": "code",
   "execution_count": 11,
   "metadata": {},
   "outputs": [
    {
     "name": "stderr",
     "output_type": "stream",
     "text": [
      "C:\\ProgramData\\Anaconda3\\lib\\site-packages\\tensorflow\\python\\keras\\engine\\training.py:1844: UserWarning: `Model.fit_generator` is deprecated and will be removed in a future version. Please use `Model.fit`, which supports generators.\n",
      "  warnings.warn('`Model.fit_generator` is deprecated and '\n"
     ]
    },
    {
     "name": "stdout",
     "output_type": "stream",
     "text": [
      "Epoch 1/24\n",
      "5/5 [==============================] - 1s 104ms/step - loss: 1.1590 - accuracy: 0.1764 - val_loss: 1.1194 - val_accuracy: 0.2222\n",
      "Epoch 2/24\n",
      "5/5 [==============================] - 0s 30ms/step - loss: 1.1066 - accuracy: 0.3305 - val_loss: 1.0934 - val_accuracy: 0.3889\n",
      "Epoch 3/24\n",
      "5/5 [==============================] - 0s 31ms/step - loss: 1.0688 - accuracy: 0.4202 - val_loss: 1.0925 - val_accuracy: 0.4444\n",
      "Epoch 4/24\n",
      "5/5 [==============================] - 0s 28ms/step - loss: 1.0550 - accuracy: 0.4777 - val_loss: 1.0770 - val_accuracy: 0.4444\n",
      "Epoch 5/24\n",
      "5/5 [==============================] - 0s 28ms/step - loss: 1.0343 - accuracy: 0.5610 - val_loss: 1.0621 - val_accuracy: 0.4444\n",
      "Epoch 6/24\n",
      "5/5 [==============================] - 0s 28ms/step - loss: 0.9882 - accuracy: 0.5007 - val_loss: 1.0413 - val_accuracy: 0.4444\n",
      "Epoch 7/24\n",
      "5/5 [==============================] - 0s 30ms/step - loss: 0.9708 - accuracy: 0.6327 - val_loss: 1.0194 - val_accuracy: 0.5556\n",
      "Epoch 8/24\n",
      "5/5 [==============================] - 0s 27ms/step - loss: 0.9417 - accuracy: 0.6153 - val_loss: 1.0028 - val_accuracy: 0.5556\n",
      "Epoch 9/24\n",
      "5/5 [==============================] - 0s 31ms/step - loss: 0.8908 - accuracy: 0.6821 - val_loss: 0.9612 - val_accuracy: 0.5556\n",
      "Epoch 10/24\n",
      "5/5 [==============================] - 0s 32ms/step - loss: 0.8077 - accuracy: 0.8706 - val_loss: 0.9248 - val_accuracy: 0.5556\n",
      "Epoch 11/24\n",
      "5/5 [==============================] - 0s 27ms/step - loss: 0.7081 - accuracy: 0.9333 - val_loss: 0.8655 - val_accuracy: 0.5556\n",
      "Epoch 12/24\n",
      "5/5 [==============================] - 0s 29ms/step - loss: 0.6904 - accuracy: 0.7766 - val_loss: 0.8586 - val_accuracy: 0.5000\n",
      "Epoch 13/24\n",
      "5/5 [==============================] - 0s 39ms/step - loss: 0.5712 - accuracy: 0.8600 - val_loss: 0.8440 - val_accuracy: 0.5000\n",
      "Epoch 14/24\n",
      "5/5 [==============================] - 0s 29ms/step - loss: 0.7768 - accuracy: 0.5712 - val_loss: 1.0356 - val_accuracy: 0.5000\n",
      "Epoch 15/24\n",
      "5/5 [==============================] - 0s 32ms/step - loss: 0.5319 - accuracy: 0.8953 - val_loss: 1.3535 - val_accuracy: 0.4444\n",
      "Epoch 16/24\n",
      "5/5 [==============================] - 0s 30ms/step - loss: 0.4415 - accuracy: 0.9244 - val_loss: 0.7598 - val_accuracy: 0.5556\n",
      "Epoch 17/24\n",
      "5/5 [==============================] - 0s 32ms/step - loss: 0.3564 - accuracy: 0.9130 - val_loss: 0.8036 - val_accuracy: 0.5000\n",
      "Epoch 18/24\n",
      "5/5 [==============================] - 0s 31ms/step - loss: 0.3592 - accuracy: 0.8860 - val_loss: 0.7929 - val_accuracy: 0.5000\n",
      "Epoch 19/24\n",
      "5/5 [==============================] - 0s 30ms/step - loss: 0.3348 - accuracy: 0.9022 - val_loss: 0.7614 - val_accuracy: 0.6111\n",
      "Epoch 20/24\n",
      "5/5 [==============================] - 0s 31ms/step - loss: 0.4753 - accuracy: 0.7906 - val_loss: 1.4853 - val_accuracy: 0.5556\n",
      "Epoch 21/24\n",
      "5/5 [==============================] - 0s 32ms/step - loss: 0.6143 - accuracy: 0.7759 - val_loss: 0.9483 - val_accuracy: 0.5556\n",
      "Epoch 22/24\n",
      "5/5 [==============================] - 0s 29ms/step - loss: 0.2003 - accuracy: 0.9921 - val_loss: 0.9146 - val_accuracy: 0.5556\n",
      "Epoch 23/24\n",
      "5/5 [==============================] - 0s 30ms/step - loss: 0.2170 - accuracy: 0.9582 - val_loss: 1.1279 - val_accuracy: 0.5556\n",
      "Epoch 24/24\n",
      "5/5 [==============================] - 0s 32ms/step - loss: 0.5728 - accuracy: 0.7730 - val_loss: 0.7727 - val_accuracy: 0.6111\n"
     ]
    },
    {
     "data": {
      "text/plain": [
       "<tensorflow.python.keras.callbacks.History at 0x220cdc16d30>"
      ]
     },
     "execution_count": 11,
     "metadata": {},
     "output_type": "execute_result"
    }
   ],
   "source": [
    "m.fit_generator(xtrain,steps_per_epoch = 5,epochs = 24,validation_data = xtest,validation_steps = 2 )"
   ]
  },
  {
   "cell_type": "code",
   "execution_count": 12,
   "metadata": {},
   "outputs": [],
   "source": [
    "m.save(\"object.h5\") "
   ]
  },
  {
   "cell_type": "code",
   "execution_count": null,
   "metadata": {},
   "outputs": [],
   "source": []
  },
  {
   "cell_type": "code",
   "execution_count": 13,
   "metadata": {},
   "outputs": [],
   "source": [
    "from tensorflow.keras.models import load_model\n",
    "from tensorflow.keras.preprocessing import image\n",
    "import cv2\n",
    "import numpy as np"
   ]
  },
  {
   "cell_type": "code",
   "execution_count": 14,
   "metadata": {},
   "outputs": [],
   "source": [
    "index = [\"keyboard\",\"monitor\",\"mouse\"]"
   ]
  },
  {
   "cell_type": "code",
   "execution_count": 15,
   "metadata": {},
   "outputs": [],
   "source": [
    "model = load_model(\"object.h5\")"
   ]
  },
  {
   "cell_type": "code",
   "execution_count": 16,
   "metadata": {},
   "outputs": [],
   "source": [
    "img = image.load_img(\"mouse.jpg\",target_size = (64,64))"
   ]
  },
  {
   "cell_type": "code",
   "execution_count": 17,
   "metadata": {},
   "outputs": [],
   "source": [
    "x = image.img_to_array(img)"
   ]
  },
  {
   "cell_type": "code",
   "execution_count": 18,
   "metadata": {},
   "outputs": [],
   "source": [
    "x = np.expand_dims(x,axis = 0)"
   ]
  },
  {
   "cell_type": "code",
   "execution_count": 19,
   "metadata": {},
   "outputs": [
    {
     "name": "stderr",
     "output_type": "stream",
     "text": [
      "C:\\ProgramData\\Anaconda3\\lib\\site-packages\\tensorflow\\python\\keras\\engine\\sequential.py:450: UserWarning: `model.predict_classes()` is deprecated and will be removed after 2021-01-01. Please use instead:* `np.argmax(model.predict(x), axis=-1)`,   if your model does multi-class classification   (e.g. if it uses a `softmax` last-layer activation).* `(model.predict(x) > 0.5).astype(\"int32\")`,   if your model does binary classification   (e.g. if it uses a `sigmoid` last-layer activation).\n",
      "  warnings.warn('`model.predict_classes()` is deprecated and '\n"
     ]
    }
   ],
   "source": [
    "pred = model.predict_classes(x)"
   ]
  },
  {
   "cell_type": "code",
   "execution_count": 20,
   "metadata": {},
   "outputs": [
    {
     "data": {
      "text/plain": [
       "2"
      ]
     },
     "execution_count": 20,
     "metadata": {},
     "output_type": "execute_result"
    }
   ],
   "source": [
    "pred[0]"
   ]
  },
  {
   "cell_type": "code",
   "execution_count": 21,
   "metadata": {},
   "outputs": [
    {
     "name": "stdout",
     "output_type": "stream",
     "text": [
      "mouse\n"
     ]
    }
   ],
   "source": [
    "print(index[pred[0]])"
   ]
  }
 ],
 "metadata": {
  "kernelspec": {
   "display_name": "Python 3",
   "language": "python",
   "name": "python3"
  },
  "language_info": {
   "codemirror_mode": {
    "name": "ipython",
    "version": 3
   },
   "file_extension": ".py",
   "mimetype": "text/x-python",
   "name": "python",
   "nbconvert_exporter": "python",
   "pygments_lexer": "ipython3",
   "version": "3.7.3"
  }
 },
 "nbformat": 4,
 "nbformat_minor": 2
}
